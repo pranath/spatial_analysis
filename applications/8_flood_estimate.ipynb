{
  "nbformat": 4,
  "nbformat_minor": 0,
  "metadata": {
    "colab": {
      "name": "8-flood_estimate.ipynb",
      "provenance": [],
      "authorship_tag": "ABX9TyMWkPg1dAIqFhUIglwtgy9N",
      "include_colab_link": true
    },
    "kernelspec": {
      "name": "python3",
      "display_name": "Python 3"
    }
  },
  "cells": [
    {
      "cell_type": "markdown",
      "metadata": {
        "id": "view-in-github",
        "colab_type": "text"
      },
      "source": [
        "<a href=\"https://colab.research.google.com/github/pranath/spatial_analysis/blob/main/applications/8_flood_estimate.ipynb\" target=\"_parent\"><img src=\"https://colab.research.google.com/assets/colab-badge.svg\" alt=\"Open In Colab\"/></a>"
      ]
    },
    {
      "cell_type": "markdown",
      "metadata": {
        "id": "WP0-PNT7D7GU"
      },
      "source": [
        "# A simple flood inundation model\n",
        "\n",
        "Flooding is one of the most common and devastating natural disasters, which affects nearly every population on the globe. Geospatial models are a powerful tool in estimating the impact of a flood and mitigating that impact before it happens. We often hear on the news that a river is reaching the flood stage, but that information is meaningless if we can't understand the impact.\n",
        "\n",
        "In this project we create a simple flood inundation model to help predict the extend of floods accross a specific terrian.\n",
        "\n",
        "I have used the QGIS desktop application to render images of the different terrains.\n",
        "\n",
        "# 1 Import libraries & define flood fill algorithm\n",
        "\n",
        "The flood fill algorithm takes a starting point column and row (i.e. x,y co-ordinate) as well as an image mask of all areas below a certain height. It will then crawl from this point, in all 4 directions, accumulating all other points connected to this one that are also below the specified height, which will be the flood prediction returned as an array of points."
      ]
    },
    {
      "cell_type": "code",
      "metadata": {
        "colab": {
          "base_uri": "https://localhost:8080/"
        },
        "id": "CNjJKRhCaGjP",
        "outputId": "15883974-cfa2-4b15-d8a7-54f28f814526"
      },
      "source": [
        "\"\"\"\n",
        "Crawls a terrain raster from a starting\n",
        "point and \"floods\" everything at the same\n",
        "or lower elevation by producing a mask\n",
        "image of 1, 0 values.\n",
        "\"\"\"\n",
        "\n",
        "from google.colab import drive\n",
        "drive.mount('/content/gdrive', force_remount=True)\n",
        "!cp -r /content/gdrive/My\\ Drive/Datasets/FloodFill/* .\n",
        "\n",
        "import numpy as np\n",
        "import matplotlib.pyplot as plt\n",
        "from linecache import getline\n",
        "\n",
        "def floodFill(c, r, mask):\n",
        "    \"\"\"\n",
        "    Crawls a mask array containing\n",
        "    only 1 and 0 values from the\n",
        "    starting point (c=column,\n",
        "    r=row - a.k.a. x, y) and returns\n",
        "    an array with all 1 values\n",
        "    connected to the starting cell.\n",
        "    This algorithm performs a 4-way\n",
        "    check non-recursively.\n",
        "    \"\"\"\n",
        "    # cells already filled\n",
        "    filled = set()\n",
        "    # cells to fill\n",
        "    fill = set()\n",
        "    fill.add((c, r))\n",
        "    width = mask.shape[1]-1\n",
        "    height = mask.shape[0]-1\n",
        "    # Our output inundation array\n",
        "    flood = np.zeros_like(mask, dtype=np.int8)\n",
        "    # Loop through and modify the cells which\n",
        "    # need to be checked.\n",
        "    while fill:\n",
        "        # Grab a cell\n",
        "        x, y = fill.pop()\n",
        "        if y == height or x == width or x < 0 or y < 0:\n",
        "            # Don't fill\n",
        "            continue\n",
        "        if mask[y][x] == 1:\n",
        "            # Do fill\n",
        "            flood[y][x] = 1\n",
        "            filled.add((x, y))\n",
        "            # Check neighbors for 1 values\n",
        "            west = (x-1, y)\n",
        "            east = (x+1, y)\n",
        "            north = (x, y-1)\n",
        "            south = (x, y+1)\n",
        "            if west not in filled:\n",
        "                fill.add(west)\n",
        "            if east not in filled:\n",
        "                fill.add(east)\n",
        "            if north not in filled:\n",
        "                fill.add(north)\n",
        "            if south not in filled:\n",
        "                fill.add(south)\n",
        "    return flood"
      ],
      "execution_count": 23,
      "outputs": [
        {
          "output_type": "stream",
          "text": [
            "Mounted at /content/gdrive\n"
          ],
          "name": "stdout"
        }
      ]
    },
    {
      "cell_type": "markdown",
      "metadata": {
        "id": "K5OuojO_FpJ5"
      },
      "source": [
        "# 2 Open terrain data file\n",
        "\n",
        "The terrain file is an ASCII grid data file, that contains terrain elevation data in a region of Texas, USA. Our starting point for the flood prediction, we will choose as somewhere close to the city of Houston - this is where we can see the postion of the red star on the terrain render. The elevation data is height in meters."
      ]
    },
    {
      "cell_type": "code",
      "metadata": {
        "colab": {
          "base_uri": "https://localhost:8080/"
        },
        "id": "19iateNGFkMW",
        "outputId": "41ed75de-4db0-411b-8bfe-5a0a465c4d5d"
      },
      "source": [
        "source = \"terrain.asc\"\n",
        "target = \"flood90.asc\"\n",
        "\n",
        "# Starting point for the\n",
        "# flood inundation near Houston, Texas\n",
        "sx = 2582\n",
        "sy = 2057\n",
        "\n",
        "print(\"Opening image...\")\n",
        "img = np.loadtxt(source, skiprows=6)\n",
        "print(\"Image opened\")\n",
        "\n",
        "img"
      ],
      "execution_count": 24,
      "outputs": [
        {
          "output_type": "stream",
          "text": [
            "Opening image...\n",
            "Image opened\n"
          ],
          "name": "stdout"
        },
        {
          "output_type": "execute_result",
          "data": {
            "text/plain": [
              "array([[146., 144., 143., ..., 101.,  98.,  97.],\n",
              "       [145., 144., 144., ...,  98.,  98.,  97.],\n",
              "       [144., 144., 145., ...,  98.,  98.,  98.],\n",
              "       ...,\n",
              "       [ 94.,  95.,  95., ...,  63.,  63.,  64.],\n",
              "       [ 93.,  94.,  94., ...,  62.,  61.,  61.],\n",
              "       [ 89.,  90.,  91., ...,  61.,  60.,  59.]])"
            ]
          },
          "metadata": {
            "tags": []
          },
          "execution_count": 24
        }
      ]
    },
    {
      "cell_type": "markdown",
      "metadata": {
        "id": "zJbouxfXF1yK"
      },
      "source": [
        "![title](flood-terrain.png)\n",
        "\n",
        "# 3 Create image mask for flood fill algorithm\n",
        "\n",
        "For our flood fill algorithm, we need to extract a mask of all the terrain pixels below a certain height. We will create two masks, one for areas below 70 meters and one for areas below 90 meters."
      ]
    },
    {
      "cell_type": "code",
      "metadata": {
        "colab": {
          "base_uri": "https://localhost:8080/"
        },
        "id": "bENWSznkFUwA",
        "outputId": "c77a55c8-aed9-46ee-858f-b1d75d038140"
      },
      "source": [
        "# a = np.where(img < 70, 1, 0)\n",
        "a = np.where(img < 90, 1, 0)\n",
        "print(\"Image masked\")"
      ],
      "execution_count": 25,
      "outputs": [
        {
          "output_type": "stream",
          "text": [
            "Image masked\n"
          ],
          "name": "stdout"
        }
      ]
    },
    {
      "cell_type": "markdown",
      "metadata": {
        "id": "_42rikPnF98x"
      },
      "source": [
        "# 4 Run flood fill algorithm on image mask\n",
        "\n",
        "We now run the flood fill algorithm on both our 70 & 90 meter flood scenario masks."
      ]
    },
    {
      "cell_type": "code",
      "metadata": {
        "colab": {
          "base_uri": "https://localhost:8080/"
        },
        "id": "mDumzxs9x5Sf",
        "outputId": "97924be9-df22-483e-a383-5c7297c0093d"
      },
      "source": [
        "# Parse the headr using a loop and\n",
        "# the built-in linecache module\n",
        "hdr = [getline(source, i) for i in range(1, 7)]\n",
        "values = [float(h.split(\" \")[-1].strip()) for h in hdr]\n",
        "cols, rows, lx, ly, cell, nd = values\n",
        "xres = cell\n",
        "yres = cell * -1\n",
        "\n",
        "print(\"Beginning flood fill\")\n",
        "fld = floodFill(sx, sy, a)\n",
        "print(\"Finished Flood fill\")\n",
        "\n",
        "header = \"\"\n",
        "for i in range(6):\n",
        "    header += hdr[i]\n",
        "\n",
        "print(\"Saving grid\")\n",
        "# Open the output file, add the hdr, save the array\n",
        "with open(target, \"wb\") as f:\n",
        "    f.write(bytes(header, 'UTF-8'))\n",
        "    np.savetxt(f, fld, fmt=\"%1i\")\n",
        "print(\"Done!\")"
      ],
      "execution_count": 20,
      "outputs": [
        {
          "output_type": "stream",
          "text": [
            "Beginning flood fill\n",
            "Finished Flood fill\n",
            "Saving grid\n",
            "Done!\n"
          ],
          "name": "stdout"
        }
      ]
    },
    {
      "cell_type": "markdown",
      "metadata": {
        "id": "WRld1QuHKma0"
      },
      "source": [
        "## 4.1 Flood prediction of areas below 70 meters\n",
        "\n",
        "This rendering shows us the potential areas flooded below 70 meters from our starting point in Houston.\n",
        "\n",
        "![title](flood70.png)"
      ]
    },
    {
      "cell_type": "markdown",
      "metadata": {
        "id": "0DCoee5_LFwT"
      },
      "source": [
        "## 4.2 Flood prediction of areas below 90 meters\n",
        "\n",
        "This rendering shows us the potential areas flooded below 90 meters from our starting point in Houston. We can see how much more of the terrain would be flooded in this scenario.\n",
        "\n",
        "![title](flood90.png)"
      ]
    },
    {
      "cell_type": "markdown",
      "metadata": {
        "id": "XZbhF-4PGJDU"
      },
      "source": [
        "# 5 Conclusion\n",
        "\n",
        "We have seen how this simple model can be used to generate flood predictions for different scenarios of elevation. Hydrological flood models are expensive to develop and can be very complex. These models are essential for engineers in building flood control systems. However, first responders and potential flood victims are only interested in the impact of an impending flood.\n",
        "\n",
        "This model starts with a single point and floods an area with the maximum volume of water that a flood basin can hold at a particular flood stage. Usually, this analysis is a worst-case scenario. Hundreds of other factors go into calculating how much water will enter into a basin from a river-topping flood stage. But we can still learn a lot from this simple first-order model."
      ]
    }
  ]
}