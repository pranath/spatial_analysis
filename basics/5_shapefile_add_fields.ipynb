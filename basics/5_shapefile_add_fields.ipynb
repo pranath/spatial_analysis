{
  "nbformat": 4,
  "nbformat_minor": 0,
  "metadata": {
    "colab": {
      "name": "5-shapefile_add_fields.ipynb",
      "provenance": [],
      "authorship_tag": "ABX9TyPBN75GVzEke6etjxaaB2+5",
      "include_colab_link": true
    },
    "kernelspec": {
      "name": "python3",
      "display_name": "Python 3"
    }
  },
  "cells": [
    {
      "cell_type": "markdown",
      "metadata": {
        "id": "view-in-github",
        "colab_type": "text"
      },
      "source": [
        "<a href=\"https://colab.research.google.com/github/pranath/spatial_analysis/blob/main/basics/5_shapefile_add_fields.ipynb\" target=\"_parent\"><img src=\"https://colab.research.google.com/assets/colab-badge.svg\" alt=\"Open In Colab\"/></a>"
      ]
    },
    {
      "cell_type": "code",
      "metadata": {
        "colab": {
          "base_uri": "https://localhost:8080/"
        },
        "id": "24XPEo8GYDyq",
        "outputId": "1d24aef8-7f7d-443d-caf8-078568d201fd"
      },
      "source": [
        "\"\"\"Add fields to a shapefile\"\"\"\n",
        "\n",
        "!pip install pyshp\n",
        "!wget https://github.com/GeospatialPython/Learn/raw/master/MSCities_Geo_Pts.zip\n",
        "!unzip MSCities_Geo_Pts.zip\n",
        "import shapefile\n",
        "\n",
        "r = shapefile.Reader('MSCities_Geo_Pts')\n",
        "with shapefile.Writer('MSCities_Geo_Pts', r.shapeType) as w:\n",
        "    w.fields = list(r.fields)\n",
        "    w.field('LAT','F',8,5)\n",
        "    w.field('LON','F',8,5)\n",
        "    # Loop over each shape and add the new lat/long fields to each\n",
        "    for i in range(len(r.shapes())):\n",
        "        lon, lat = r.shape(i).points[0]\n",
        "        w.point(lon, lat)\n",
        "        w.record(*list(r.record(i)), lat, lon)"
      ],
      "execution_count": 1,
      "outputs": [
        {
          "output_type": "stream",
          "text": [
            "Collecting pyshp\n",
            "\u001b[?25l  Downloading https://files.pythonhosted.org/packages/ca/1f/e9cc2c3fce32e2926581f8b6905831165235464c858ba550b6e9b8ef78c3/pyshp-2.1.2.tar.gz (217kB)\n",
            "\r\u001b[K     |█▌                              | 10kB 15.0MB/s eta 0:00:01\r\u001b[K     |███                             | 20kB 20.4MB/s eta 0:00:01\r\u001b[K     |████▌                           | 30kB 13.8MB/s eta 0:00:01\r\u001b[K     |██████                          | 40kB 11.0MB/s eta 0:00:01\r\u001b[K     |███████▌                        | 51kB 7.7MB/s eta 0:00:01\r\u001b[K     |█████████                       | 61kB 7.4MB/s eta 0:00:01\r\u001b[K     |██████████▌                     | 71kB 7.3MB/s eta 0:00:01\r\u001b[K     |████████████                    | 81kB 8.0MB/s eta 0:00:01\r\u001b[K     |█████████████▌                  | 92kB 8.0MB/s eta 0:00:01\r\u001b[K     |███████████████                 | 102kB 8.2MB/s eta 0:00:01\r\u001b[K     |████████████████▌               | 112kB 8.2MB/s eta 0:00:01\r\u001b[K     |██████████████████              | 122kB 8.2MB/s eta 0:00:01\r\u001b[K     |███████████████████▌            | 133kB 8.2MB/s eta 0:00:01\r\u001b[K     |█████████████████████           | 143kB 8.2MB/s eta 0:00:01\r\u001b[K     |██████████████████████▋         | 153kB 8.2MB/s eta 0:00:01\r\u001b[K     |████████████████████████        | 163kB 8.2MB/s eta 0:00:01\r\u001b[K     |█████████████████████████▋      | 174kB 8.2MB/s eta 0:00:01\r\u001b[K     |███████████████████████████     | 184kB 8.2MB/s eta 0:00:01\r\u001b[K     |████████████████████████████▋   | 194kB 8.2MB/s eta 0:00:01\r\u001b[K     |██████████████████████████████  | 204kB 8.2MB/s eta 0:00:01\r\u001b[K     |███████████████████████████████▋| 215kB 8.2MB/s eta 0:00:01\r\u001b[K     |████████████████████████████████| 225kB 8.2MB/s \n",
            "\u001b[?25hBuilding wheels for collected packages: pyshp\n",
            "  Building wheel for pyshp (setup.py) ... \u001b[?25l\u001b[?25hdone\n",
            "  Created wheel for pyshp: filename=pyshp-2.1.2-cp36-none-any.whl size=36217 sha256=c4a482849615d229723e2dd92ca500f240c57cba129b9470c232a9ab77bef7f7\n",
            "  Stored in directory: /root/.cache/pip/wheels/96/6c/53/4112475adf3b831da97f083163d0f38ee6daac9c1b13f7afea\n",
            "Successfully built pyshp\n",
            "Installing collected packages: pyshp\n",
            "Successfully installed pyshp-2.1.2\n",
            "--2020-12-30 16:05:55--  https://github.com/GeospatialPython/Learn/raw/master/MSCities_Geo_Pts.zip\n",
            "Resolving github.com (github.com)... 192.30.255.112\n",
            "Connecting to github.com (github.com)|192.30.255.112|:443... connected.\n",
            "HTTP request sent, awaiting response... 302 Found\n",
            "Location: https://raw.githubusercontent.com/GeospatialPython/Learn/master/MSCities_Geo_Pts.zip [following]\n",
            "--2020-12-30 16:05:55--  https://raw.githubusercontent.com/GeospatialPython/Learn/master/MSCities_Geo_Pts.zip\n",
            "Resolving raw.githubusercontent.com (raw.githubusercontent.com)... 151.101.0.133, 151.101.64.133, 151.101.128.133, ...\n",
            "Connecting to raw.githubusercontent.com (raw.githubusercontent.com)|151.101.0.133|:443... connected.\n",
            "HTTP request sent, awaiting response... 200 OK\n",
            "Length: 19978 (20K) [application/zip]\n",
            "Saving to: ‘MSCities_Geo_Pts.zip’\n",
            "\n",
            "MSCities_Geo_Pts.zi 100%[===================>]  19.51K  --.-KB/s    in 0s      \n",
            "\n",
            "2020-12-30 16:05:55 (97.1 MB/s) - ‘MSCities_Geo_Pts.zip’ saved [19978/19978]\n",
            "\n",
            "Archive:  MSCities_Geo_Pts.zip\n",
            "  inflating: MSCities_Geo_Pts.dbf    \n",
            "  inflating: MSCities_Geo_Pts.prj    \n",
            "  inflating: MSCities_Geo_Pts.qpj    \n",
            "  inflating: MSCities_Geo_Pts.shp    \n",
            "  inflating: MSCities_Geo_Pts.shx    \n"
          ],
          "name": "stdout"
        }
      ]
    }
  ]
}