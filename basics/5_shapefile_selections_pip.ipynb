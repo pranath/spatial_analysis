{
  "nbformat": 4,
  "nbformat_minor": 0,
  "metadata": {
    "colab": {
      "name": "5-shapefile_selections_pip.ipynb",
      "provenance": [],
      "authorship_tag": "ABX9TyPbFM98XJXJaKmh40u/0WwC",
      "include_colab_link": true
    },
    "kernelspec": {
      "name": "python3",
      "display_name": "Python 3"
    }
  },
  "cells": [
    {
      "cell_type": "markdown",
      "metadata": {
        "id": "view-in-github",
        "colab_type": "text"
      },
      "source": [
        "<a href=\"https://colab.research.google.com/github/pranath/spatial_analysis/blob/main/basics/5_shapefile_selections_pip.ipynb\" target=\"_parent\"><img src=\"https://colab.research.google.com/assets/colab-badge.svg\" alt=\"Open In Colab\"/></a>"
      ]
    },
    {
      "cell_type": "markdown",
      "metadata": {
        "id": "len1jRjDicWm"
      },
      "source": [
        "##The point-in-polygon formula\n",
        "\n",
        "We briefly discussed the point-in-polygon formula in Chapter 1, Learning about Geospatial Analysis with Python, as a common type of geospatial operation. You'll find it is one of the most useful formulas out there. The formula is relatively straightforward.\n",
        "\n",
        "The following function performs this check using the Ray Casting method. This method draws a line from the test point all of the way through the polygon and counts the number of times it crosses the polygon boundary. If the count is even, the point is outside the polygon. If it is odd, then it's inside. This particular implementation also checks to see whether the point is on the edge of the polygon:"
      ]
    },
    {
      "cell_type": "code",
      "metadata": {
        "colab": {
          "base_uri": "https://localhost:8080/"
        },
        "id": "hpXSroUeiLAV",
        "outputId": "20fe7d96-0d55-4623-cab3-dd59e5f2b17a"
      },
      "source": [
        "def point_in_poly(x, y, poly):\n",
        "    # check if point is a vertex\n",
        "    if (x, y) in poly:\n",
        "        return True\n",
        "\n",
        "    # check if point is on a boundary\n",
        "    for i in range(len(poly)):\n",
        "        p1 = None\n",
        "        p2 = None\n",
        "        if i == 0:\n",
        "            p1 = poly[0]\n",
        "            p2 = poly[1]\n",
        "        else:\n",
        "            p1 = poly[i-1]\n",
        "            p2 = poly[i]\n",
        "        if p1[1] == p2[1] and p1[1] == y and x > min(p1[0],\n",
        "           p2[0]) and x < max(p1[0], p2[0]):\n",
        "            return True\n",
        "\n",
        "    n = len(poly)\n",
        "    inside = False\n",
        "\n",
        "    p1x, p1y = poly[0]\n",
        "    for i in range(n+1):\n",
        "        p2x, p2y = poly[i % n]\n",
        "        if y > min(p1y, p2y):\n",
        "            if y <= max(p1y, p2y):\n",
        "                if x <= max(p1x, p2x):\n",
        "                    if p1y != p2y:\n",
        "                        xints = (y-p1y)*(p2x-p1x)/(p2y-p1y)+p1x\n",
        "                    if p1x == p2x or x <= xints:\n",
        "                        inside = not inside\n",
        "        p1x, p1y = p2x, p2y\n",
        "\n",
        "    if inside:\n",
        "        return True\n",
        "    return False\n",
        "\n",
        "# Test a point inside the polygon for inclusion\n",
        "myPolygon = [(-70.593016, -33.416032), (-70.589604, -33.415370),\n",
        "             (-70.589046, -33.417340), (-70.592351, -33.417949),\n",
        "             (-70.593016, -33.416032)]\n",
        "lon = -70.592000\n",
        "lat = -33.416000\n",
        "\n",
        "print(point_in_poly(lon, lat, myPolygon))\n",
        "\n",
        "# test an vertex for inclusion\n",
        "lon = -70.593016\n",
        "lat = -33.416032\n",
        "print(point_in_poly(lon, lat, myPolygon))"
      ],
      "execution_count": 1,
      "outputs": [
        {
          "output_type": "stream",
          "text": [
            "True\n",
            "True\n"
          ],
          "name": "stdout"
        }
      ]
    }
  ]
}