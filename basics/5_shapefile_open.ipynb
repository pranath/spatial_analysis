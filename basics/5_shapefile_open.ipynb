{
  "nbformat": 4,
  "nbformat_minor": 0,
  "metadata": {
    "colab": {
      "name": "5-shapefile_open.ipynb",
      "provenance": [],
      "authorship_tag": "ABX9TyOY2LQgBxauJmN7rRaAwRKv",
      "include_colab_link": true
    },
    "kernelspec": {
      "name": "python3",
      "display_name": "Python 3"
    }
  },
  "cells": [
    {
      "cell_type": "markdown",
      "metadata": {
        "id": "view-in-github",
        "colab_type": "text"
      },
      "source": [
        "<a href=\"https://colab.research.google.com/github/pranath/spatial_analysis/blob/main/basics/5_shapefile_open.ipynb\" target=\"_parent\"><img src=\"https://colab.research.google.com/assets/colab-badge.svg\" alt=\"Open In Colab\"/></a>"
      ]
    },
    {
      "cell_type": "code",
      "metadata": {
        "colab": {
          "base_uri": "https://localhost:8080/"
        },
        "id": "XX50-qVh2T4d",
        "outputId": "6f8fa8a3-49f4-45ed-b4d3-9af1f856205c"
      },
      "source": [
        "\"\"\"Open a shapefile for reading\"\"\"\n",
        "\n",
        "!pip install pyshp\n",
        "import shapefile\n",
        "!wget https://github.com/GeospatialPython/Learn/raw/master/MSCities_Geo_Pts.zip\n",
        "!unzip MSCities_Geo_Pts.zip\n",
        "\n",
        "r = shapefile.Reader(\"MSCities_Geo_Pts\")\n",
        "print(' \n",
        "')\n",
        "print('Start of output')\n",
        "print(r)\n",
        "print(r.bbox)\n",
        "print(r.shapeType)\n",
        "print(r.numRecords)\n",
        "print(r.fields)\n",
        "print([item[0] for item in r.fields[1:]])\n",
        "print(r.record(2))\n",
        "print(r.record(2)[4])\n",
        "fieldNames = [item[0] for item in r.fields[1:]]\n",
        "name10 = fieldNames.index(\"NAME10\")\n",
        "print(name10)\n",
        "print(r.record(2)[name10])\n",
        "rec = r.record(2)\n",
        "print(rec)\n",
        "zipRec = zip(fieldNames, rec)\n",
        "print(list(zipRec))\n",
        "for z in zipRec:\n",
        "    if z[0] == \"NAME10\":\n",
        "        print(z[1])\n",
        "for rec in enumerate(r.records()[:3]):\n",
        "    print(rec[0] + 1, \": \", rec[1])\n",
        "counter = 0\n",
        "for rec in r.iterRecords():\n",
        "    counter += 1\n",
        "print(counter)\n",
        "geom = r.shape(0)\n",
        "print(geom.points)"
      ],
      "execution_count": 9,
      "outputs": [
        {
          "output_type": "stream",
          "text": [
            "Requirement already satisfied: pyshp in /usr/local/lib/python3.6/dist-packages (2.1.2)\n",
            "--2020-12-30 13:48:49--  https://github.com/GeospatialPython/Learn/raw/master/MSCities_Geo_Pts.zip\n",
            "Resolving github.com (github.com)... 140.82.112.4\n",
            "Connecting to github.com (github.com)|140.82.112.4|:443... connected.\n",
            "HTTP request sent, awaiting response... 302 Found\n",
            "Location: https://raw.githubusercontent.com/GeospatialPython/Learn/master/MSCities_Geo_Pts.zip [following]\n",
            "--2020-12-30 13:48:50--  https://raw.githubusercontent.com/GeospatialPython/Learn/master/MSCities_Geo_Pts.zip\n",
            "Resolving raw.githubusercontent.com (raw.githubusercontent.com)... 151.101.0.133, 151.101.64.133, 151.101.128.133, ...\n",
            "Connecting to raw.githubusercontent.com (raw.githubusercontent.com)|151.101.0.133|:443... connected.\n",
            "HTTP request sent, awaiting response... 200 OK\n",
            "Length: 19978 (20K) [application/zip]\n",
            "Saving to: ‘MSCities_Geo_Pts.zip.4’\n",
            "\n",
            "MSCities_Geo_Pts.zi 100%[===================>]  19.51K  --.-KB/s    in 0.001s  \n",
            "\n",
            "2020-12-30 13:48:50 (14.9 MB/s) - ‘MSCities_Geo_Pts.zip.4’ saved [19978/19978]\n",
            "\n",
            "Archive:  MSCities_Geo_Pts.zip\n",
            "replace MSCities_Geo_Pts.dbf? [y]es, [n]o, [A]ll, [N]one, [r]ename:  \n",
            "Start of output\n",
            "shapefile Reader\n",
            "    298 shapes (type 'POINT')\n",
            "    298 records (17 fields)\n",
            "[-91.38804855553174, 30.29314882296931, -88.18631833931401, 34.96091138678437]\n",
            "1\n",
            "298\n",
            "[('DeletionFlag', 'C', 1, 0), ['STATEFP10', 'C', 2, 0], ['PLACEFP10', 'C', 5, 0], ['PLACENS10', 'C', 8, 0], ['GEOID10', 'C', 7, 0], ['NAME10', 'C', 100, 0], ['NAMELSAD10', 'C', 100, 0], ['LSAD10', 'C', 2, 0], ['CLASSFP10', 'C', 2, 0], ['PCICBSA10', 'C', 1, 0], ['PCINECTA10', 'C', 1, 0], ['MTFCC10', 'C', 5, 0], ['FUNCSTAT10', 'C', 1, 0], ['ALAND10', 'N', 14, 0], ['AWATER10', 'N', 14, 0], ['INTPTLAT10', 'C', 11, 0], ['INTPTLON10', 'C', 12, 0]]\n",
            "['STATEFP10', 'PLACEFP10', 'PLACENS10', 'GEOID10', 'NAME10', 'NAMELSAD10', 'LSAD10', 'CLASSFP10', 'PCICBSA10', 'PCINECTA10', 'MTFCC10', 'FUNCSTAT10', 'ALAND10', 'AWATER10', 'INTPTLAT10', 'INTPTLON10']\n",
            "Record #2: ['28', '16620', '02406337', '2816620', 'Crosby', 'Crosby town', '43', 'C1', 'N', 'N', 'G4110', 'A', 5489412, 21336, '+31.2742552', '-091.0614840']\n",
            "Crosby\n",
            "4\n",
            "Crosby\n",
            "Record #2: ['28', '16620', '02406337', '2816620', 'Crosby', 'Crosby town', '43', 'C1', 'N', 'N', 'G4110', 'A', 5489412, 21336, '+31.2742552', '-091.0614840']\n",
            "[('STATEFP10', '28'), ('PLACEFP10', '16620'), ('PLACENS10', '02406337'), ('GEOID10', '2816620'), ('NAME10', 'Crosby'), ('NAMELSAD10', 'Crosby town'), ('LSAD10', '43'), ('CLASSFP10', 'C1'), ('PCICBSA10', 'N'), ('PCINECTA10', 'N'), ('MTFCC10', 'G4110'), ('FUNCSTAT10', 'A'), ('ALAND10', 5489412), ('AWATER10', 21336), ('INTPTLAT10', '+31.2742552'), ('INTPTLON10', '-091.0614840')]\n",
            "1 :  Record #0: ['28', '59560', '02404554', '2859560', 'Port Gibson', 'Port Gibson city', '25', 'C1', 'N', 'N', 'G4110', 'A', 4550230, 0, '+31.9558031', '-090.9834329']\n",
            "2 :  Record #1: ['28', '50440', '02404351', '2850440', 'Natchez', 'Natchez city', '25', 'C1', 'Y', 'N', 'G4110', 'A', 34175943, 1691489, '+31.5495016', '-091.3887298']\n",
            "3 :  Record #2: ['28', '16620', '02406337', '2816620', 'Crosby', 'Crosby town', '43', 'C1', 'N', 'N', 'G4110', 'A', 5489412, 21336, '+31.2742552', '-091.0614840']\n",
            "298\n",
            "[[-90.98343326763826, 31.9558035947602]]\n"
          ],
          "name": "stdout"
        }
      ]
    }
  ]
}