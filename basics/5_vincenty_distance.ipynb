{
  "nbformat": 4,
  "nbformat_minor": 0,
  "metadata": {
    "colab": {
      "name": "5-vincenty_distance.ipynb",
      "provenance": [],
      "authorship_tag": "ABX9TyMlMQ3xZW5KJU1ESHAjD/Xm",
      "include_colab_link": true
    },
    "kernelspec": {
      "name": "python3",
      "display_name": "Python 3"
    }
  },
  "cells": [
    {
      "cell_type": "markdown",
      "metadata": {
        "id": "view-in-github",
        "colab_type": "text"
      },
      "source": [
        "<a href=\"https://colab.research.google.com/github/pranath/spatial_analysis/blob/main/basics/5_vincenty_distance.ipynb\" target=\"_parent\"><img src=\"https://colab.research.google.com/assets/colab-badge.svg\" alt=\"Open In Colab\"/></a>"
      ]
    },
    {
      "cell_type": "code",
      "metadata": {
        "id": "Fb9hYTk6u37V"
      },
      "source": [
        "import math"
      ],
      "execution_count": 7,
      "outputs": []
    },
    {
      "cell_type": "code",
      "metadata": {
        "colab": {
          "base_uri": "https://localhost:8080/"
        },
        "id": "-nNRDRzQvGQr",
        "outputId": "7f73005e-7e3e-4f92-f3cf-82015df1eef0"
      },
      "source": [
        "distance = None\n",
        "\n",
        "x1 = -90.212452861859035\n",
        "y1 = 32.316272202663704\n",
        "x2 = -88.952170968942525\n",
        "y2 = 30.438559624660321\n",
        "\n",
        "# Ellipsoid Parameters\n",
        "# Example is NAD83\n",
        "a = 6378137  # semi-major axis\n",
        "f = 1/298.257222101  # inverse flattening\n",
        "b = abs((f*a)-a)  # semi-minor axis\n",
        "L = math.radians(x2-x1)\n",
        "U1 = math.atan((1-f) * math.tan(math.radians(y1)))\n",
        "U2 = math.atan((1-f) * math.tan(math.radians(y2)))\n",
        "sinU1 = math.sin(U1)\n",
        "cosU1 = math.cos(U1)\n",
        "sinU2 = math.sin(U2)\n",
        "cosU2 = math.cos(U2)\n",
        "lam = L\n",
        "\n",
        "for i in range(100):\n",
        "    sinLam = math.sin(lam)\n",
        "    cosLam = math.cos(lam)\n",
        "    sinSigma = math.sqrt((cosU2*sinLam)**2 +\n",
        "                         (cosU1*sinU2-sinU1*cosU2*cosLam)**2)\n",
        "    if (sinSigma == 0):\n",
        "        distance = 0  # coincident points\n",
        "        break\n",
        "    cosSigma = sinU1*sinU2 + cosU1*cosU2*cosLam\n",
        "    sigma = math.atan2(sinSigma, cosSigma)\n",
        "    sinAlpha = cosU1 * cosU2 * sinLam / sinSigma\n",
        "    cosSqAlpha = 1 - sinAlpha**2\n",
        "    cos2SigmaM = cosSigma - 2*sinU1*sinU2/cosSqAlpha\n",
        "    if math.isnan(cos2SigmaM):\n",
        "        cos2SigmaM = 0  # equatorial line\n",
        "    C = f/16*cosSqAlpha*(4+f*(4-3*cosSqAlpha))\n",
        "    LP = lam\n",
        "    lam = L + (1-C) * f * sinAlpha * \\\n",
        "        (sigma + C*sinSigma*(cos2SigmaM+C*cosSigma *\n",
        "                             (-1+2*cos2SigmaM*cos2SigmaM)))\n",
        "    if not abs(lam-LP) > 1e-12:\n",
        "        break\n",
        "uSq = cosSqAlpha * (a**2 - b**2) / b**2\n",
        "A = 1 + uSq/16384*(4096+uSq*(-768+uSq*(320-175*uSq)))\n",
        "B = uSq/1024 * (256+uSq*(-128+uSq*(74-47*uSq)))\n",
        "deltaSigma = B*sinSigma*(cos2SigmaM+B/4 *\n",
        "                         (cosSigma*(-1+2*cos2SigmaM*cos2SigmaM) -\n",
        "                          B/6*cos2SigmaM*(-3+4*sinSigma*sinSigma) *\n",
        "                          (-3+4*cos2SigmaM*cos2SigmaM)))\n",
        "s = b*A*(sigma-deltaSigma)\n",
        "\n",
        "distance = s\n",
        "print(distance)"
      ],
      "execution_count": 8,
      "outputs": [
        {
          "output_type": "stream",
          "text": [
            "240237.66693880095\n"
          ],
          "name": "stdout"
        }
      ]
    }
  ]
}