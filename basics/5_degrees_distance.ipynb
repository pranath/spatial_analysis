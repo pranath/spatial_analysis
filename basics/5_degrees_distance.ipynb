{
  "nbformat": 4,
  "nbformat_minor": 0,
  "metadata": {
    "colab": {
      "name": "5-degrees_distance.ipynb",
      "provenance": [],
      "authorship_tag": "ABX9TyP0CdA58pq8bZ5Wa2bi8Xtz",
      "include_colab_link": true
    },
    "kernelspec": {
      "name": "python3",
      "display_name": "Python 3"
    }
  },
  "cells": [
    {
      "cell_type": "markdown",
      "metadata": {
        "id": "view-in-github",
        "colab_type": "text"
      },
      "source": [
        "<a href=\"https://colab.research.google.com/github/pranath/spatial_analysis/blob/main/basics/5_degrees_distance.ipynb\" target=\"_parent\"><img src=\"https://colab.research.google.com/assets/colab-badge.svg\" alt=\"Open In Colab\"/></a>"
      ]
    },
    {
      "cell_type": "code",
      "metadata": {
        "id": "JwHUcY3WeuYb"
      },
      "source": [
        "import math"
      ],
      "execution_count": 1,
      "outputs": []
    },
    {
      "cell_type": "code",
      "metadata": {
        "colab": {
          "base_uri": "https://localhost:8080/"
        },
        "id": "uUHTvuVNe56f",
        "outputId": "e807a607-8ad4-41ad-f2ce-8d151e7d826f"
      },
      "source": [
        "x1 = -90.21\n",
        "y1 = 32.31\n",
        "x2 = -88.95\n",
        "y2 = 30.43\n",
        "x_dist = math.radians(x1 - x2)\n",
        "y_dist = math.radians(y1 - y2)\n",
        "dist_sq = x_dist**2 + y_dist**2\n",
        "dist_rad = math.sqrt(dist_sq)\n",
        "dist_rad * 6371251.46"
      ],
      "execution_count": 2,
      "outputs": [
        {
          "output_type": "execute_result",
          "data": {
            "text/plain": [
              "251664.4668769659"
            ]
          },
          "metadata": {
            "tags": []
          },
          "execution_count": 2
        }
      ]
    }
  ]
}