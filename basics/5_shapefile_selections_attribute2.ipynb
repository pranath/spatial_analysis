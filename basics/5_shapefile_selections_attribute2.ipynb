{
  "nbformat": 4,
  "nbformat_minor": 0,
  "metadata": {
    "colab": {
      "name": "5-shapefile_selections_attribute2.ipynb",
      "provenance": [],
      "authorship_tag": "ABX9TyMvIvJYno+Z6mw9AB5g4A/9",
      "include_colab_link": true
    },
    "kernelspec": {
      "name": "python3",
      "display_name": "Python 3"
    }
  },
  "cells": [
    {
      "cell_type": "markdown",
      "metadata": {
        "id": "view-in-github",
        "colab_type": "text"
      },
      "source": [
        "<a href=\"https://colab.research.google.com/github/pranath/spatial_analysis/blob/main/basics/5_shapefile_selections_attribute2.ipynb\" target=\"_parent\"><img src=\"https://colab.research.google.com/assets/colab-badge.svg\" alt=\"Open In Colab\"/></a>"
      ]
    },
    {
      "cell_type": "code",
      "metadata": {
        "colab": {
          "base_uri": "https://localhost:8080/"
        },
        "id": "hXnq1OsMjSE9",
        "outputId": "5ba75ace-0aec-4a68-d2ca-ff009439fd30"
      },
      "source": [
        "\"\"\"Attribute selection for subset using fiona\"\"\"\n",
        "\n",
        "# https://github.com/GeospatialPython/Learn/raw/master/MS_UrbanAnC10.zip\n",
        "!pip install fiona\n",
        "!wget https://github.com/GeospatialPython/Learn/raw/master/MS_UrbanAnC10.zip\n",
        "!unzip MS_UrbanAnC10.zip\n",
        "import fiona\n",
        "\n",
        "with fiona.open(\"MS_UrbanAnC10.shp\") as sf:\n",
        "    filtered = filter(lambda f: f['properties']['POP'] < 5000, sf)\n",
        "    drv = sf.driver\n",
        "    crs = sf.crs\n",
        "    schm = sf.schema\n",
        "    subset = \"MS_Urban_Fiona_Subset.shp\"\n",
        "    with fiona.open(subset, \"w\",\n",
        "                    driver=drv,\n",
        "                    crs=crs,\n",
        "                    schema=schm) as w:\n",
        "            for rec in filtered:\n",
        "                w.write(rec)"
      ],
      "execution_count": 7,
      "outputs": [
        {
          "output_type": "stream",
          "text": [
            "Collecting fiona\n",
            "\u001b[?25l  Downloading https://files.pythonhosted.org/packages/37/94/4910fd55246c1d963727b03885ead6ef1cd3748a465f7b0239ab25dfc9a3/Fiona-1.8.18-cp36-cp36m-manylinux1_x86_64.whl (14.8MB)\n",
            "\u001b[K     |████████████████████████████████| 14.8MB 304kB/s \n",
            "\u001b[?25hRequirement already satisfied: six>=1.7 in /usr/local/lib/python3.6/dist-packages (from fiona) (1.15.0)\n",
            "Requirement already satisfied: certifi in /usr/local/lib/python3.6/dist-packages (from fiona) (2020.12.5)\n",
            "Collecting click-plugins>=1.0\n",
            "  Downloading https://files.pythonhosted.org/packages/e9/da/824b92d9942f4e472702488857914bdd50f73021efea15b4cad9aca8ecef/click_plugins-1.1.1-py2.py3-none-any.whl\n",
            "Collecting cligj>=0.5\n",
            "  Downloading https://files.pythonhosted.org/packages/42/1e/947eadf10d6804bf276eb8a038bd5307996dceaaa41cfd21b7a15ec62f5d/cligj-0.7.1-py3-none-any.whl\n",
            "Requirement already satisfied: attrs>=17 in /usr/local/lib/python3.6/dist-packages (from fiona) (20.3.0)\n",
            "Requirement already satisfied: click<8,>=4.0 in /usr/local/lib/python3.6/dist-packages (from fiona) (7.1.2)\n",
            "Collecting munch\n",
            "  Downloading https://files.pythonhosted.org/packages/cc/ab/85d8da5c9a45e072301beb37ad7f833cd344e04c817d97e0cc75681d248f/munch-2.5.0-py2.py3-none-any.whl\n",
            "Installing collected packages: click-plugins, cligj, munch, fiona\n",
            "Successfully installed click-plugins-1.1.1 cligj-0.7.1 fiona-1.8.18 munch-2.5.0\n",
            "--2020-12-30 16:58:53--  https://github.com/GeospatialPython/Learn/raw/master/MS_UrbanAnC10.zip\n",
            "Resolving github.com (github.com)... 52.69.186.44\n",
            "Connecting to github.com (github.com)|52.69.186.44|:443... connected.\n",
            "HTTP request sent, awaiting response... 302 Found\n",
            "Location: https://raw.githubusercontent.com/GeospatialPython/Learn/master/MS_UrbanAnC10.zip [following]\n",
            "--2020-12-30 16:58:54--  https://raw.githubusercontent.com/GeospatialPython/Learn/master/MS_UrbanAnC10.zip\n",
            "Resolving raw.githubusercontent.com (raw.githubusercontent.com)... 151.101.0.133, 151.101.64.133, 151.101.128.133, ...\n",
            "Connecting to raw.githubusercontent.com (raw.githubusercontent.com)|151.101.0.133|:443... connected.\n",
            "HTTP request sent, awaiting response... 200 OK\n",
            "Length: 1664786 (1.6M) [application/zip]\n",
            "Saving to: ‘MS_UrbanAnC10.zip.1’\n",
            "\n",
            "MS_UrbanAnC10.zip.1 100%[===================>]   1.59M  --.-KB/s    in 0.1s    \n",
            "\n",
            "2020-12-30 16:58:54 (12.8 MB/s) - ‘MS_UrbanAnC10.zip.1’ saved [1664786/1664786]\n",
            "\n",
            "Archive:  MS_UrbanAnC10.zip\n",
            "replace MS_UrbanAnC10.sbx? [y]es, [n]o, [A]ll, [N]one, [r]ename: "
          ],
          "name": "stdout"
        }
      ]
    }
  ]
}