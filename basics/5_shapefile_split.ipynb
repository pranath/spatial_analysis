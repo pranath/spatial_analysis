{
  "nbformat": 4,
  "nbformat_minor": 0,
  "metadata": {
    "colab": {
      "name": "5-shapefile_split.ipynb",
      "provenance": [],
      "authorship_tag": "ABX9TyNtn/SW7m/YPkItwCxWLWIN",
      "include_colab_link": true
    },
    "kernelspec": {
      "name": "python3",
      "display_name": "Python 3"
    }
  },
  "cells": [
    {
      "cell_type": "markdown",
      "metadata": {
        "id": "view-in-github",
        "colab_type": "text"
      },
      "source": [
        "<a href=\"https://colab.research.google.com/github/pranath/spatial_analysis/blob/main/basics/5_shapefile_split.ipynb\" target=\"_parent\"><img src=\"https://colab.research.google.com/assets/colab-badge.svg\" alt=\"Open In Colab\"/></a>"
      ]
    },
    {
      "cell_type": "code",
      "metadata": {
        "colab": {
          "base_uri": "https://localhost:8080/"
        },
        "id": "lbjY-eo-e-ya",
        "outputId": "86ebac29-83c3-49ac-bcce-8f15cce99e4d"
      },
      "source": [
        "\"\"\"Split a shapefile\"\"\"\n",
        "\n",
        "!pip install pyshp\n",
        "!pip install utm\n",
        "!wget https://github.com/GeospatialPython/Learn/raw/master/footprints.zip\n",
        "!unzip footprints.zip\n",
        "import shapefile\n",
        "import utm\n",
        "\n",
        "r = shapefile.Reader(\"footprints_se\")\n",
        "with shapefile.Writer(\"footprints_185\", r.shapeType) as w:\n",
        "    w.fields = list(r.fields)\n",
        "    # Loop through collect the points\n",
        "    for sr in r.shapeRecords():\n",
        "        utmPoints = []\n",
        "        for p in sr.shape.points:\n",
        "            x, y, band, zone = utm.from_latlon(p[1], p[0])\n",
        "            utmPoints.append([x, y])\n",
        "    # Calculate the area of polygon defined by points\n",
        "    area = abs(shapefile.signed_area(utmPoints))\n",
        "    # If area of polygon more than 100, lets save it\n",
        "    if area <= 100:\n",
        "        w.poly([sr.shape.points])\n",
        "        w.record(*list(sr.record))\n",
        "# Verify changes\n",
        "r = shapefile.Reader(\"footprints_se\")\n",
        "subset = shapefile.Reader(\"footprints_185\")\n",
        "print(r.numRecords)\n",
        "print(subset.numRecords)"
      ],
      "execution_count": 3,
      "outputs": [
        {
          "output_type": "stream",
          "text": [
            "Requirement already satisfied: pyshp in /usr/local/lib/python3.6/dist-packages (2.1.2)\n",
            "Requirement already satisfied: utm in /usr/local/lib/python3.6/dist-packages (0.7.0)\n",
            "--2020-12-30 16:33:23--  https://github.com/GeospatialPython/Learn/raw/master/footprints.zip\n",
            "Resolving github.com (github.com)... 140.82.121.4\n",
            "Connecting to github.com (github.com)|140.82.121.4|:443... connected.\n",
            "HTTP request sent, awaiting response... 302 Found\n",
            "Location: https://raw.githubusercontent.com/GeospatialPython/Learn/master/footprints.zip [following]\n",
            "--2020-12-30 16:33:23--  https://raw.githubusercontent.com/GeospatialPython/Learn/master/footprints.zip\n",
            "Resolving raw.githubusercontent.com (raw.githubusercontent.com)... 151.101.0.133, 151.101.64.133, 151.101.128.133, ...\n",
            "Connecting to raw.githubusercontent.com (raw.githubusercontent.com)|151.101.0.133|:443... connected.\n",
            "HTTP request sent, awaiting response... 200 OK\n",
            "Length: 5007471 (4.8M) [application/zip]\n",
            "Saving to: ‘footprints.zip.2’\n",
            "\n",
            "footprints.zip.2    100%[===================>]   4.78M  29.5MB/s    in 0.2s    \n",
            "\n",
            "2020-12-30 16:33:23 (29.5 MB/s) - ‘footprints.zip.2’ saved [5007471/5007471]\n",
            "\n",
            "Archive:  footprints.zip\n",
            "replace footprints_185.dbf? [y]es, [n]o, [A]ll, [N]one, [r]ename: y\n",
            "  inflating: footprints_185.dbf      \n",
            "replace footprints_185.shp? [y]es, [n]o, [A]ll, [N]one, [r]ename: y\n",
            "  inflating: footprints_185.shp      \n",
            "replace footprints_185.shx? [y]es, [n]o, [A]ll, [N]one, [r]ename: y\n",
            "  inflating: footprints_185.shx      \n",
            "replace footprints_ne.dbf? [y]es, [n]o, [A]ll, [N]one, [r]ename: y\n",
            "  inflating: footprints_ne.dbf       \n",
            "replace footprints_ne.shp? [y]es, [n]o, [A]ll, [N]one, [r]ename: y\n",
            "  inflating: footprints_ne.shp       \n",
            "replace footprints_ne.shx? [y]es, [n]o, [A]ll, [N]one, [r]ename: y\n",
            "  inflating: footprints_ne.shx       \n",
            "replace footprints_nw.dbf? [y]es, [n]o, [A]ll, [N]one, [r]ename: y\n",
            "  inflating: footprints_nw.dbf       \n",
            "replace footprints_nw.shp? [y]es, [n]o, [A]ll, [N]one, [r]ename: y\n",
            "  inflating: footprints_nw.shp       \n",
            "replace footprints_nw.shx? [y]es, [n]o, [A]ll, [N]one, [r]ename: y\n",
            "  inflating: footprints_nw.shx       \n",
            "replace footprints_se.dbf? [y]es, [n]o, [A]ll, [N]one, [r]ename: y\n",
            "  inflating: footprints_se.dbf       \n",
            "replace footprints_se.shp? [y]es, [n]o, [A]ll, [N]one, [r]ename: y\n",
            "  inflating: footprints_se.shp       \n",
            "replace footprints_se.shx? [y]es, [n]o, [A]ll, [N]one, [r]ename: y\n",
            "  inflating: footprints_se.shx       \n",
            "replace footprints_sw.dbf? [y]es, [n]o, [A]ll, [N]one, [r]ename: y\n",
            "  inflating: footprints_sw.dbf       \n",
            "replace footprints_sw.shp? [y]es, [n]o, [A]ll, [N]one, [r]ename: y\n",
            "  inflating: footprints_sw.shp       \n",
            "replace footprints_sw.shx? [y]es, [n]o, [A]ll, [N]one, [r]ename: y\n",
            "  inflating: footprints_sw.shx       \n",
            "26447\n",
            "1\n"
          ],
          "name": "stdout"
        }
      ]
    }
  ]
}