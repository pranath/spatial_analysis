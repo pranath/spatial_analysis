{
  "nbformat": 4,
  "nbformat_minor": 0,
  "metadata": {
    "colab": {
      "name": "5-pythagoras_distance.ipynb",
      "provenance": [],
      "authorship_tag": "ABX9TyO+Op3nXzB2GZkwgSfyFlbI"
    },
    "kernelspec": {
      "name": "python3",
      "display_name": "Python 3"
    }
  },
  "cells": [
    {
      "cell_type": "code",
      "metadata": {
        "id": "ywwg-dCqQCPu"
      },
      "source": [
        "import math"
      ],
      "execution_count": 1,
      "outputs": []
    },
    {
      "cell_type": "code",
      "metadata": {
        "colab": {
          "base_uri": "https://localhost:8080/"
        },
        "id": "DPAmxCrEQL7q",
        "outputId": "a2dde22c-a93a-4b3a-db96-b985ee264be2"
      },
      "source": [
        "x1 = 456456.23123582301\n",
        "y1 = 1279721.064356426\n",
        "x2 = 576628.34295886324\n",
        "y2 = 1071740.3328161312\n",
        "x_dist = x1 - x2\n",
        "y_dist = y1 - y2\n",
        "dist_sq = x_dist**2 + y_dist**2\n",
        "distance = math.sqrt(dist_sq)\n",
        "print(distance)"
      ],
      "execution_count": 2,
      "outputs": [
        {
          "output_type": "stream",
          "text": [
            "240202.6667795573\n"
          ],
          "name": "stdout"
        }
      ]
    }
  ]
}