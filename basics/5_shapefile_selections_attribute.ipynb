{
  "nbformat": 4,
  "nbformat_minor": 0,
  "metadata": {
    "colab": {
      "name": "5-shapefile_selections_attribute.ipynb",
      "provenance": [],
      "authorship_tag": "ABX9TyNgGf1ytdez3yO0XZ3tAwJE",
      "include_colab_link": true
    },
    "kernelspec": {
      "name": "python3",
      "display_name": "Python 3"
    }
  },
  "cells": [
    {
      "cell_type": "markdown",
      "metadata": {
        "id": "view-in-github",
        "colab_type": "text"
      },
      "source": [
        "<a href=\"https://colab.research.google.com/github/pranath/spatial_analysis/blob/main/basics/5_shapefile_selections_attribute.ipynb\" target=\"_parent\"><img src=\"https://colab.research.google.com/assets/colab-badge.svg\" alt=\"Open In Colab\"/></a>"
      ]
    },
    {
      "cell_type": "code",
      "metadata": {
        "colab": {
          "base_uri": "https://localhost:8080/"
        },
        "id": "hXnq1OsMjSE9",
        "outputId": "6e6f4b60-33a9-4edc-bcaa-c5c58dbb6a23"
      },
      "source": [
        "\"\"\"Attribute selection for subset\"\"\"\n",
        "\n",
        "# https://github.com/GeospatialPython/Learn/raw/master/MS_UrbanAnC10.zip\n",
        "!pip install pyshp\n",
        "!wget https://github.com/GeospatialPython/Learn/raw/master/MS_UrbanAnC10.zip\n",
        "!unzip MS_UrbanAnC10.zip\n",
        "import shapefile\n",
        "\n",
        "# Create a reader instance\n",
        "r = shapefile.Reader(\"MS_UrbanAnC10\")\n",
        "# Create a writer instance\n",
        "with shapefile.Writer(\"MS_Urban_Subset\", r.shapeType) as w:\n",
        "    # Copy the fields to the writer\n",
        "    w.fields = list(r.fields)\n",
        "    # Grab the geometry and records from all features\n",
        "    # with the correct population\n",
        "    selection = []\n",
        "    for rec in enumerate(r.records()):\n",
        "        if rec[1][15] < 5000:\n",
        "            selection.append(rec)\n",
        "    # Add the geometry and records to the writer\n",
        "    for rec in selection:\n",
        "        w.poly([r.shape(rec[0]).points])\n",
        "        w.record(*list(rec[1]))"
      ],
      "execution_count": 6,
      "outputs": [
        {
          "output_type": "stream",
          "text": [
            "Requirement already satisfied: pyshp in /usr/local/lib/python3.6/dist-packages (2.1.2)\n",
            "--2020-12-30 16:55:21--  https://github.com/GeospatialPython/Learn/raw/master/MS_UrbanAnC10.zip\n",
            "Resolving github.com (github.com)... 13.114.40.48\n",
            "Connecting to github.com (github.com)|13.114.40.48|:443... connected.\n",
            "HTTP request sent, awaiting response... 302 Found\n",
            "Location: https://raw.githubusercontent.com/GeospatialPython/Learn/master/MS_UrbanAnC10.zip [following]\n",
            "--2020-12-30 16:55:21--  https://raw.githubusercontent.com/GeospatialPython/Learn/master/MS_UrbanAnC10.zip\n",
            "Resolving raw.githubusercontent.com (raw.githubusercontent.com)... 151.101.0.133, 151.101.64.133, 151.101.128.133, ...\n",
            "Connecting to raw.githubusercontent.com (raw.githubusercontent.com)|151.101.0.133|:443... connected.\n",
            "HTTP request sent, awaiting response... 200 OK\n",
            "Length: 1664786 (1.6M) [application/zip]\n",
            "Saving to: ‘MS_UrbanAnC10.zip’\n",
            "\n",
            "MS_UrbanAnC10.zip   100%[===================>]   1.59M  --.-KB/s    in 0.1s    \n",
            "\n",
            "2020-12-30 16:55:22 (16.3 MB/s) - ‘MS_UrbanAnC10.zip’ saved [1664786/1664786]\n",
            "\n",
            "Archive:  MS_UrbanAnC10.zip\n",
            "  inflating: MS_UrbanAnC10.sbx       \n",
            "  inflating: MS_UrbanAnC10.shp       \n",
            "  inflating: MS_UrbanAnC10.shp.xml   \n",
            "  inflating: MS_UrbanAnC10.shx       \n",
            "  inflating: MS_UrbanAnc_meta.htm    \n",
            " extracting: MS_UrbanAnc_meta_files/image001.png  \n",
            "  inflating: MS_UrbanAnC10.dbf       \n",
            "  inflating: MS_UrbanAnC10.prj       \n",
            "  inflating: MS_UrbanAnC10.sbn       \n"
          ],
          "name": "stdout"
        }
      ]
    }
  ]
}