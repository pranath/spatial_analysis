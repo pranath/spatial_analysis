{
  "nbformat": 4,
  "nbformat_minor": 0,
  "metadata": {
    "colab": {
      "name": "5-bearing.ipynb",
      "provenance": [],
      "authorship_tag": "ABX9TyMOKdN4yFkgbygngnjh/6aX",
      "include_colab_link": true
    },
    "kernelspec": {
      "name": "python3",
      "display_name": "Python 3"
    }
  },
  "cells": [
    {
      "cell_type": "markdown",
      "metadata": {
        "id": "view-in-github",
        "colab_type": "text"
      },
      "source": [
        "<a href=\"https://colab.research.google.com/github/pranath/spatial_analysis/blob/main/basics/5_bearing.ipynb\" target=\"_parent\"><img src=\"https://colab.research.google.com/assets/colab-badge.svg\" alt=\"Open In Colab\"/></a>"
      ]
    },
    {
      "cell_type": "code",
      "metadata": {
        "colab": {
          "base_uri": "https://localhost:8080/"
        },
        "id": "ZyH176biwNH5",
        "outputId": "8ea4f5cd-dac8-4044-9795-a7cd7dd5f53a"
      },
      "source": [
        "\"\"\"Vincenty ellipsoid distance measurement formula\"\"\"\n",
        "from math import atan2, cos, sin, degrees\n",
        "\n",
        "lon1 = -90.212452861859035\n",
        "lat1 = 32.316272202663704\n",
        "lon2 = -88.952170968942525\n",
        "lat2 = 30.438559624660321\n",
        "\n",
        "angle = atan2(cos(lat1)*sin(lat2)-sin(lat1) *\n",
        "              cos(lat2)*cos(lon2-lon1), sin(lon2-lon1)*cos(lat2))\n",
        "\n",
        "# Avoid negative bearing by adding 360 and then using modulo\n",
        "bearing = (degrees(angle) + 360) % 360\n",
        "\n",
        "print(bearing)"
      ],
      "execution_count": 1,
      "outputs": [
        {
          "output_type": "stream",
          "text": [
            "309.3672990606595\n"
          ],
          "name": "stdout"
        }
      ]
    }
  ]
}