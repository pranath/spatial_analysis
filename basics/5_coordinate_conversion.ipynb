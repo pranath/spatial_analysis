{
  "nbformat": 4,
  "nbformat_minor": 0,
  "metadata": {
    "colab": {
      "name": "5-coordinate_conversion.ipynb",
      "provenance": [],
      "authorship_tag": "ABX9TyO5+1fEh/yM6uvRAW7i9qvC",
      "include_colab_link": true
    },
    "kernelspec": {
      "name": "python3",
      "display_name": "Python 3"
    }
  },
  "cells": [
    {
      "cell_type": "markdown",
      "metadata": {
        "id": "view-in-github",
        "colab_type": "text"
      },
      "source": [
        "<a href=\"https://colab.research.google.com/github/pranath/spatial_analysis/blob/main/basics/5_coordinate_conversion.ipynb\" target=\"_parent\"><img src=\"https://colab.research.google.com/assets/colab-badge.svg\" alt=\"Open In Colab\"/></a>"
      ]
    },
    {
      "cell_type": "markdown",
      "metadata": {
        "id": "K578exT30Y-v"
      },
      "source": [
        "Convert decimal degrees to degrees, minutes, seconds and vice-versa."
      ]
    },
    {
      "cell_type": "code",
      "metadata": {
        "colab": {
          "base_uri": "https://localhost:8080/"
        },
        "id": "qAHkENr9zvBL",
        "outputId": "7cf75fe8-29d8-4848-bc56-d5b59c7904f3"
      },
      "source": [
        "import math\n",
        "import re\n",
        "\n",
        "def dd2dms(lat, lon):\n",
        "        latf, latn = math.modf(lat)\n",
        "        lonf, lonn = math.modf(lon)\n",
        "        latd = int(latn)\n",
        "        latm = int(latf * 60)\n",
        "        lats = (lat - latd - latm / 60) * 3600.00\n",
        "        lond = int(lonn)\n",
        "        lonm = int(lonf * 60)\n",
        "        lons = (lon - lond - lonm / 60) * 3600.00\n",
        "        compass = {\n",
        "            'lat': ('N','S'),\n",
        "            'lon': ('E','W')\n",
        "        }\n",
        "        lat_compass = compass['lat'][0 if latd >= 0 else 1]\n",
        "        lon_compass = compass['lon'][0 if lond >= 0 else 1]\n",
        "        return '{}º {}\\' {:.2f}\" {}, {}º {}\\' {:.2f}\" {}'.format(abs(latd), \n",
        "        \tabs(latm), abs(lats), lat_compass, abs(lond), \n",
        "        \tabs(lonm), abs(lons), lon_compass)\n",
        "    \n",
        "def dms2dd(lat, lon):\n",
        "    lat_deg, lat_min, lat_sec, lat_dir = re.split('[^\\d\\.A-Z]+', lat)\n",
        "    lon_deg, lon_min, lon_sec, lon_dir = re.split('[^\\d\\.A-Z]+', lon)\n",
        "    lat_dd = float(lat_deg) + float(lat_min)/60 + float(lat_sec)/(60*60);\n",
        "    lon_dd = float(lon_deg) + float(lon_min)/60 + float(lon_sec)/(60*60);\n",
        "    if lat_dir == 'S':\n",
        "        lat_dd *= -1\n",
        "    if lon_dir == 'W':\n",
        "        lon_dd *= -1\n",
        "    return (lat_dd, lon_dd);\n",
        "\n",
        "print(dd2dms(35.14953, -90.04898))\n",
        "\n",
        "dms2dd(\"\"\"29o 56' 0.00\" N\"\"\", \"\"\"90o 4' 12.36\" W\"\"\")"
      ],
      "execution_count": 2,
      "outputs": [
        {
          "output_type": "stream",
          "text": [
            "35º 8' 58.31\" N, 90º 2' 56.33\" W\n"
          ],
          "name": "stdout"
        },
        {
          "output_type": "execute_result",
          "data": {
            "text/plain": [
              "(29.933333333333334, -90.0701)"
            ]
          },
          "metadata": {
            "tags": []
          },
          "execution_count": 2
        }
      ]
    }
  ]
}