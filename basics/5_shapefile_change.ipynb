{
  "nbformat": 4,
  "nbformat_minor": 0,
  "metadata": {
    "colab": {
      "name": "5-shapefile_change.ipynb",
      "provenance": [],
      "authorship_tag": "ABX9TyNNB09yaf62txUlys9Xxvhj",
      "include_colab_link": true
    },
    "kernelspec": {
      "name": "python3",
      "display_name": "Python 3"
    }
  },
  "cells": [
    {
      "cell_type": "markdown",
      "metadata": {
        "id": "view-in-github",
        "colab_type": "text"
      },
      "source": [
        "<a href=\"https://colab.research.google.com/github/pranath/spatial_analysis/blob/main/basics/5_shapefile_change.ipynb\" target=\"_parent\"><img src=\"https://colab.research.google.com/assets/colab-badge.svg\" alt=\"Open In Colab\"/></a>"
      ]
    },
    {
      "cell_type": "code",
      "metadata": {
        "colab": {
          "base_uri": "https://localhost:8080/"
        },
        "id": "Fsw1LaCdFzhy",
        "outputId": "4d504fcb-1c72-404d-bca5-228da2a0660d"
      },
      "source": [
        "\"\"\"Convert a shapefile from lat/lon to UTM\"\"\"\n",
        "\n",
        "!pip install pyshp\n",
        "!pip install utm\n",
        "import shapefile\n",
        "!wget https://github.com/GeospatialPython/Learn/raw/master/MSCities_Geo_Pts.zip\n",
        "!unzip MSCities_Geo_Pts.zip\n",
        "import utm\n",
        "\n",
        "\n",
        "r = shapefile.Reader(\"MSCities_Geo_Pts\")\n",
        "with shapefile.Writer(\"MSCities_Geo_Pts_UTM\", shapeType=1) as w:\n",
        "    w.fields = list(r.fields)\n",
        "    for rec in r.records():\n",
        "        w.record(*list(rec))\n",
        "    for s in r.iterShapes():\n",
        "        lon, lat = s.points[0]\n",
        "        y, x, zone, band = utm.from_latlon(lat, lon)\n",
        "        w.point(x, y)\n",
        "\n",
        "# Add a prj file\n",
        "from urllib.request import urlopen\n",
        "prj = urlopen('http://spatialreference.org/ref/epsg/26918/esriwkt/')\n",
        "with open('MSCities_Geo_Pts_UTM.prj', 'w') as f:\n",
        "    f.write(str(prj.read()))"
      ],
      "execution_count": 22,
      "outputs": [
        {
          "output_type": "stream",
          "text": [
            "Requirement already satisfied: pyshp in /usr/local/lib/python3.6/dist-packages (2.1.2)\n",
            "Requirement already satisfied: utm in /usr/local/lib/python3.6/dist-packages (0.7.0)\n",
            "--2020-12-30 15:50:09--  https://github.com/GeospatialPython/Learn/raw/master/MSCities_Geo_Pts.zip\n",
            "Resolving github.com (github.com)... 140.82.112.4\n",
            "Connecting to github.com (github.com)|140.82.112.4|:443... connected.\n",
            "HTTP request sent, awaiting response... 302 Found\n",
            "Location: https://raw.githubusercontent.com/GeospatialPython/Learn/master/MSCities_Geo_Pts.zip [following]\n",
            "--2020-12-30 15:50:09--  https://raw.githubusercontent.com/GeospatialPython/Learn/master/MSCities_Geo_Pts.zip\n",
            "Resolving raw.githubusercontent.com (raw.githubusercontent.com)... 151.101.0.133, 151.101.64.133, 151.101.128.133, ...\n",
            "Connecting to raw.githubusercontent.com (raw.githubusercontent.com)|151.101.0.133|:443... connected.\n",
            "HTTP request sent, awaiting response... 200 OK\n",
            "Length: 19978 (20K) [application/zip]\n",
            "Saving to: ‘MSCities_Geo_Pts.zip.4’\n",
            "\n",
            "MSCities_Geo_Pts.zi 100%[===================>]  19.51K  --.-KB/s    in 0s      \n",
            "\n",
            "2020-12-30 15:50:09 (55.2 MB/s) - ‘MSCities_Geo_Pts.zip.4’ saved [19978/19978]\n",
            "\n",
            "Archive:  MSCities_Geo_Pts.zip\n",
            "replace MSCities_Geo_Pts.dbf? [y]es, [n]o, [A]ll, [N]one, [r]ename: "
          ],
          "name": "stdout"
        }
      ]
    }
  ]
}