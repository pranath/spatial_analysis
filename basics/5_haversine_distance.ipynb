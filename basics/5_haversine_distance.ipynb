{
  "nbformat": 4,
  "nbformat_minor": 0,
  "metadata": {
    "colab": {
      "name": "5-haversine_distance.ipynb",
      "provenance": [],
      "authorship_tag": "ABX9TyOV8bEOoEtbhGl+wcekSfE+",
      "include_colab_link": true
    },
    "kernelspec": {
      "name": "python3",
      "display_name": "Python 3"
    }
  },
  "cells": [
    {
      "cell_type": "markdown",
      "metadata": {
        "id": "view-in-github",
        "colab_type": "text"
      },
      "source": [
        "<a href=\"https://colab.research.google.com/github/pranath/spatial_analysis/blob/main/basics/5_haversine_distance.ipynb\" target=\"_parent\"><img src=\"https://colab.research.google.com/assets/colab-badge.svg\" alt=\"Open In Colab\"/></a>"
      ]
    },
    {
      "cell_type": "code",
      "metadata": {
        "id": "FYQhdLyvfyvh"
      },
      "source": [
        "import math"
      ],
      "execution_count": 5,
      "outputs": []
    },
    {
      "cell_type": "code",
      "metadata": {
        "colab": {
          "base_uri": "https://localhost:8080/"
        },
        "id": "QMSwEiakf_t0",
        "outputId": "b0f8f030-514a-4f27-e3da-74cfd51b71fb"
      },
      "source": [
        "x1 = -90.212452861859035\n",
        "y1 = 32.316272202663704\n",
        "x2 = -88.952170968942525\n",
        "y2 = 30.438559624660321\n",
        "x_dist = math.radians(x1 - x2)\n",
        "y_dist = math.radians(y1 - y2)\n",
        "y1_rad = math.radians(y1)\n",
        "y2_rad = math.radians(y2)\n",
        "a = math.sin(y_dist/2)**2 + math.sin(x_dist/2)**2 \\\n",
        "* math.cos(y1_rad) * math.cos(y2_rad)\n",
        "c = 2 * math.asin(math.sqrt(a))\n",
        "distance = c * 6371  # kilometers\n",
        "print(distance)"
      ],
      "execution_count": 6,
      "outputs": [
        {
          "output_type": "stream",
          "text": [
            "240.6359762909508\n"
          ],
          "name": "stdout"
        }
      ]
    }
  ]
}