{
  "nbformat": 4,
  "nbformat_minor": 0,
  "metadata": {
    "colab": {
      "name": "5-shapefile_add.ipynb",
      "provenance": [],
      "authorship_tag": "ABX9TyP+7CMdP0XXA7fh60mi+5j7",
      "include_colab_link": true
    },
    "kernelspec": {
      "name": "python3",
      "display_name": "Python 3"
    }
  },
  "cells": [
    {
      "cell_type": "markdown",
      "metadata": {
        "id": "view-in-github",
        "colab_type": "text"
      },
      "source": [
        "<a href=\"https://colab.research.google.com/github/pranath/spatial_analysis/blob/main/basics/5_shapefile_add.ipynb\" target=\"_parent\"><img src=\"https://colab.research.google.com/assets/colab-badge.svg\" alt=\"Open In Colab\"/></a>"
      ]
    },
    {
      "cell_type": "code",
      "metadata": {
        "colab": {
          "base_uri": "https://localhost:8080/"
        },
        "id": "ccvRn69lWleC",
        "outputId": "f0dfe958-39fb-4f0d-c875-ac31f9ec9f11"
      },
      "source": [
        "\"\"\"Add a feature to a shapefile\"\"\"\n",
        "\n",
        "!pip install pyshp\n",
        "!wget https://github.com/GeospatialPython/Learn/raw/master/ep202009_5day_026.zip\n",
        "!unzip ep202009_5day_026.zip\n",
        "import shapefile\n",
        "\n",
        "# Polygon shapefile we are updating.\n",
        "file_name = \"ep202009.026_5day_pgn.shp\"\n",
        "# Create a shapefile reader\n",
        "r = shapefile.Reader(file_name)\n",
        "# Copy the shapefile type to a Writer object\n",
        "with shapefile.Writer(\"test\", r.shapeType) as w:\n",
        "    # Copy over the existing dbf fields\n",
        "    w.fields = list(r.fields)\n",
        "    # Copy over the existing dbf records\n",
        "    for rec in r.records():\n",
        "        w.record(*list(rec))\n",
        "    # Copy over the existing polygons\n",
        "    for s in r.shapes():\n",
        "        w._shapeparts(parts=[s.points], shapeType=s.shapeType)\n",
        "    # Add a new polygon\n",
        "    w.poly([[[-104, 24], [-104, 25], [-103, 25], [-103, 24], [-104, 24]]])\n",
        "    # Add a new dbf record\n",
        "    w.record(\"STANLEY\", \"TD\", \"091022/1500\", \"27\", \"21\", \"48\", \"ep\")"
      ],
      "execution_count": 2,
      "outputs": [
        {
          "output_type": "stream",
          "text": [
            "Requirement already satisfied: pyshp in /usr/local/lib/python3.6/dist-packages (2.1.2)\n",
            "--2020-12-30 15:55:25--  https://github.com/GeospatialPython/Learn/raw/master/ep202009_5day_026.zip\n",
            "Resolving github.com (github.com)... 52.192.72.89\n",
            "Connecting to github.com (github.com)|52.192.72.89|:443... connected.\n",
            "HTTP request sent, awaiting response... 302 Found\n",
            "Location: https://raw.githubusercontent.com/GeospatialPython/Learn/master/ep202009_5day_026.zip [following]\n",
            "--2020-12-30 15:55:25--  https://raw.githubusercontent.com/GeospatialPython/Learn/master/ep202009_5day_026.zip\n",
            "Resolving raw.githubusercontent.com (raw.githubusercontent.com)... 151.101.0.133, 151.101.64.133, 151.101.128.133, ...\n",
            "Connecting to raw.githubusercontent.com (raw.githubusercontent.com)|151.101.0.133|:443... connected.\n",
            "HTTP request sent, awaiting response... 200 OK\n",
            "Length: 1785 (1.7K) [application/zip]\n",
            "Saving to: ‘ep202009_5day_026.zip.1’\n",
            "\n",
            "ep202009_5day_026.z 100%[===================>]   1.74K  --.-KB/s    in 0s      \n",
            "\n",
            "2020-12-30 15:55:25 (27.1 MB/s) - ‘ep202009_5day_026.zip.1’ saved [1785/1785]\n",
            "\n",
            "Archive:  ep202009_5day_026.zip\n",
            "replace ep202009.026_5day_pgn.dbf? [y]es, [n]o, [A]ll, [N]one, [r]ename: "
          ],
          "name": "stdout"
        }
      ]
    }
  ]
}