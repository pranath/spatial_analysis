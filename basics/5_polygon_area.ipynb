{
  "nbformat": 4,
  "nbformat_minor": 0,
  "metadata": {
    "colab": {
      "name": "5-polygon_area.ipynb",
      "provenance": [],
      "authorship_tag": "ABX9TyNiJnnHF5JtYZMeWUPkDzj0",
      "include_colab_link": true
    },
    "kernelspec": {
      "name": "python3",
      "display_name": "Python 3"
    }
  },
  "cells": [
    {
      "cell_type": "markdown",
      "metadata": {
        "id": "view-in-github",
        "colab_type": "text"
      },
      "source": [
        "<a href=\"https://colab.research.google.com/github/pranath/spatial_analysis/blob/main/basics/5_polygon_area.ipynb\" target=\"_parent\"><img src=\"https://colab.research.google.com/assets/colab-badge.svg\" alt=\"Open In Colab\"/></a>"
      ]
    },
    {
      "cell_type": "code",
      "metadata": {
        "colab": {
          "base_uri": "https://localhost:8080/"
        },
        "id": "kwJowo5C1Bdt",
        "outputId": "c708389e-d970-429d-c47a-dc74096742b1"
      },
      "source": [
        "!pip install area\n",
        "from area import area\n",
        "\n",
        "# Our points making up a polygon\n",
        "polygon = {\"type\":\"Polygon\",\"coordinates\":[[[-89.324,30.312],[-89.326,30.31],[-89.322,30.31],[-89.321,30.311],[-89.321,30.312],[-89.324,30.312]]]}\n",
        "\n",
        "a = area(polygon)\n",
        "\n",
        "print(a)"
      ],
      "execution_count": 3,
      "outputs": [
        {
          "output_type": "stream",
          "text": [
            "Requirement already satisfied: area in /usr/local/lib/python3.6/dist-packages (1.1.1)\n",
            "80235.13927976067\n"
          ],
          "name": "stdout"
        }
      ]
    }
  ]
}